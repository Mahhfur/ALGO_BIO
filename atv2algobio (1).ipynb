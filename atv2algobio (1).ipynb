{
  "nbformat": 4,
  "nbformat_minor": 0,
  "metadata": {
    "colab": {
      "provenance": []
    },
    "kernelspec": {
      "name": "python3",
      "display_name": "Python 3"
    },
    "language_info": {
      "name": "python"
    }
  },
  "cells": [
    {
      "cell_type": "markdown",
      "source": [
        "Programa que le todos as sequências do arquivo fasta (Influenza H3N2) e calcula:\n",
        "1) Número total de nucleotídeos  e de A, T C e G de cada sequência;\n",
        "\n",
        "\n",
        "2) Conteúdo GC para cada sequência.\n",
        "\n",
        "\n",
        "3) Temperatura de anelamento (melting) do DNA (DNA melting temperature), para cada gene (sequência), utilizando a conteúdo GC e [Na+] = 100 mM. "
      ],
      "metadata": {
        "id": "S-frGsL8ikOC"
      }
    },
    {
      "cell_type": "markdown",
      "source": [
        "**ALGORITMO**\n",
        "\n",
        "Contar quantas vezes cada letra (A, T, C, G) aparece na sequência;\n",
        "\n",
        "Somar a quantidade de C e G e dividir pelo total de letras da sequência depois multuplicar por 100 para saber a porcentagem de C e G em relação ao total; \n",
        "\n",
        "Fazer isso repetidas vezes até fazer com todas as sequências do arquivo;\n",
        "\n",
        "Contar quantas sequências tem no arquivo\n",
        "\n",
        "Calcular a DNA melting temperature para cada sequência usando a fórmula :\n",
        "\n",
        "TM= 64.9 + 0.41 * ((C+G/total de letras da sequência)*100]) - (500 / total de letras da sequência); \n",
        "\n",
        "Fazer uma tabela com as informações adquiridas nos passos acima, informando o CG em porcentagem e o TM de cada sequência;\n",
        "\n",
        "Fazer um gráfico relacionando o CG em porcentagem (abscissa) e a DNA melting temperature (ordenada)."
      ],
      "metadata": {
        "id": "2Nzu6blnmEFq"
      }
    },
    {
      "cell_type": "markdown",
      "source": [
        "**CÓDIGO**"
      ],
      "metadata": {
        "id": "j_darzb92Lzj"
      }
    },
    {
      "cell_type": "code",
      "source": [
        "!pip install biopython"
      ],
      "metadata": {
        "colab": {
          "base_uri": "https://localhost:8080/"
        },
        "id": "EricFrL3Zgj4",
        "outputId": "1aa53145-0194-439b-93d7-b5480a95553f"
      },
      "execution_count": null,
      "outputs": [
        {
          "output_type": "stream",
          "name": "stdout",
          "text": [
            "Looking in indexes: https://pypi.org/simple, https://us-python.pkg.dev/colab-wheels/public/simple/\n",
            "Requirement already satisfied: biopython in /usr/local/lib/python3.9/dist-packages (1.81)\n",
            "Requirement already satisfied: numpy in /usr/local/lib/python3.9/dist-packages (from biopython) (1.22.4)\n"
          ]
        }
      ]
    },
    {
      "cell_type": "code",
      "source": [
        "from Bio import SeqIO\n",
        "import pandas as pd\n",
        "import matplotlib.pyplot as plt"
      ],
      "metadata": {
        "id": "pnM8jitDeQ9H"
      },
      "execution_count": null,
      "outputs": []
    },
    {
      "cell_type": "code",
      "source": [
        "from google.colab import files\n",
        "\n",
        "uploaded = files.upload()"
      ],
      "metadata": {
        "colab": {
          "base_uri": "https://localhost:8080/",
          "height": 73
        },
        "id": "isXTHu-ubgD3",
        "outputId": "23763b2d-6931-476c-97a8-31c472521e2a"
      },
      "execution_count": null,
      "outputs": [
        {
          "output_type": "display_data",
          "data": {
            "text/plain": [
              "<IPython.core.display.HTML object>"
            ],
            "text/html": [
              "\n",
              "     <input type=\"file\" id=\"files-8e985a75-45d0-4427-868e-ef9ce3216868\" name=\"files[]\" multiple disabled\n",
              "        style=\"border:none\" />\n",
              "     <output id=\"result-8e985a75-45d0-4427-868e-ef9ce3216868\">\n",
              "      Upload widget is only available when the cell has been executed in the\n",
              "      current browser session. Please rerun this cell to enable.\n",
              "      </output>\n",
              "      <script>// Copyright 2017 Google LLC\n",
              "//\n",
              "// Licensed under the Apache License, Version 2.0 (the \"License\");\n",
              "// you may not use this file except in compliance with the License.\n",
              "// You may obtain a copy of the License at\n",
              "//\n",
              "//      http://www.apache.org/licenses/LICENSE-2.0\n",
              "//\n",
              "// Unless required by applicable law or agreed to in writing, software\n",
              "// distributed under the License is distributed on an \"AS IS\" BASIS,\n",
              "// WITHOUT WARRANTIES OR CONDITIONS OF ANY KIND, either express or implied.\n",
              "// See the License for the specific language governing permissions and\n",
              "// limitations under the License.\n",
              "\n",
              "/**\n",
              " * @fileoverview Helpers for google.colab Python module.\n",
              " */\n",
              "(function(scope) {\n",
              "function span(text, styleAttributes = {}) {\n",
              "  const element = document.createElement('span');\n",
              "  element.textContent = text;\n",
              "  for (const key of Object.keys(styleAttributes)) {\n",
              "    element.style[key] = styleAttributes[key];\n",
              "  }\n",
              "  return element;\n",
              "}\n",
              "\n",
              "// Max number of bytes which will be uploaded at a time.\n",
              "const MAX_PAYLOAD_SIZE = 100 * 1024;\n",
              "\n",
              "function _uploadFiles(inputId, outputId) {\n",
              "  const steps = uploadFilesStep(inputId, outputId);\n",
              "  const outputElement = document.getElementById(outputId);\n",
              "  // Cache steps on the outputElement to make it available for the next call\n",
              "  // to uploadFilesContinue from Python.\n",
              "  outputElement.steps = steps;\n",
              "\n",
              "  return _uploadFilesContinue(outputId);\n",
              "}\n",
              "\n",
              "// This is roughly an async generator (not supported in the browser yet),\n",
              "// where there are multiple asynchronous steps and the Python side is going\n",
              "// to poll for completion of each step.\n",
              "// This uses a Promise to block the python side on completion of each step,\n",
              "// then passes the result of the previous step as the input to the next step.\n",
              "function _uploadFilesContinue(outputId) {\n",
              "  const outputElement = document.getElementById(outputId);\n",
              "  const steps = outputElement.steps;\n",
              "\n",
              "  const next = steps.next(outputElement.lastPromiseValue);\n",
              "  return Promise.resolve(next.value.promise).then((value) => {\n",
              "    // Cache the last promise value to make it available to the next\n",
              "    // step of the generator.\n",
              "    outputElement.lastPromiseValue = value;\n",
              "    return next.value.response;\n",
              "  });\n",
              "}\n",
              "\n",
              "/**\n",
              " * Generator function which is called between each async step of the upload\n",
              " * process.\n",
              " * @param {string} inputId Element ID of the input file picker element.\n",
              " * @param {string} outputId Element ID of the output display.\n",
              " * @return {!Iterable<!Object>} Iterable of next steps.\n",
              " */\n",
              "function* uploadFilesStep(inputId, outputId) {\n",
              "  const inputElement = document.getElementById(inputId);\n",
              "  inputElement.disabled = false;\n",
              "\n",
              "  const outputElement = document.getElementById(outputId);\n",
              "  outputElement.innerHTML = '';\n",
              "\n",
              "  const pickedPromise = new Promise((resolve) => {\n",
              "    inputElement.addEventListener('change', (e) => {\n",
              "      resolve(e.target.files);\n",
              "    });\n",
              "  });\n",
              "\n",
              "  const cancel = document.createElement('button');\n",
              "  inputElement.parentElement.appendChild(cancel);\n",
              "  cancel.textContent = 'Cancel upload';\n",
              "  const cancelPromise = new Promise((resolve) => {\n",
              "    cancel.onclick = () => {\n",
              "      resolve(null);\n",
              "    };\n",
              "  });\n",
              "\n",
              "  // Wait for the user to pick the files.\n",
              "  const files = yield {\n",
              "    promise: Promise.race([pickedPromise, cancelPromise]),\n",
              "    response: {\n",
              "      action: 'starting',\n",
              "    }\n",
              "  };\n",
              "\n",
              "  cancel.remove();\n",
              "\n",
              "  // Disable the input element since further picks are not allowed.\n",
              "  inputElement.disabled = true;\n",
              "\n",
              "  if (!files) {\n",
              "    return {\n",
              "      response: {\n",
              "        action: 'complete',\n",
              "      }\n",
              "    };\n",
              "  }\n",
              "\n",
              "  for (const file of files) {\n",
              "    const li = document.createElement('li');\n",
              "    li.append(span(file.name, {fontWeight: 'bold'}));\n",
              "    li.append(span(\n",
              "        `(${file.type || 'n/a'}) - ${file.size} bytes, ` +\n",
              "        `last modified: ${\n",
              "            file.lastModifiedDate ? file.lastModifiedDate.toLocaleDateString() :\n",
              "                                    'n/a'} - `));\n",
              "    const percent = span('0% done');\n",
              "    li.appendChild(percent);\n",
              "\n",
              "    outputElement.appendChild(li);\n",
              "\n",
              "    const fileDataPromise = new Promise((resolve) => {\n",
              "      const reader = new FileReader();\n",
              "      reader.onload = (e) => {\n",
              "        resolve(e.target.result);\n",
              "      };\n",
              "      reader.readAsArrayBuffer(file);\n",
              "    });\n",
              "    // Wait for the data to be ready.\n",
              "    let fileData = yield {\n",
              "      promise: fileDataPromise,\n",
              "      response: {\n",
              "        action: 'continue',\n",
              "      }\n",
              "    };\n",
              "\n",
              "    // Use a chunked sending to avoid message size limits. See b/62115660.\n",
              "    let position = 0;\n",
              "    do {\n",
              "      const length = Math.min(fileData.byteLength - position, MAX_PAYLOAD_SIZE);\n",
              "      const chunk = new Uint8Array(fileData, position, length);\n",
              "      position += length;\n",
              "\n",
              "      const base64 = btoa(String.fromCharCode.apply(null, chunk));\n",
              "      yield {\n",
              "        response: {\n",
              "          action: 'append',\n",
              "          file: file.name,\n",
              "          data: base64,\n",
              "        },\n",
              "      };\n",
              "\n",
              "      let percentDone = fileData.byteLength === 0 ?\n",
              "          100 :\n",
              "          Math.round((position / fileData.byteLength) * 100);\n",
              "      percent.textContent = `${percentDone}% done`;\n",
              "\n",
              "    } while (position < fileData.byteLength);\n",
              "  }\n",
              "\n",
              "  // All done.\n",
              "  yield {\n",
              "    response: {\n",
              "      action: 'complete',\n",
              "    }\n",
              "  };\n",
              "}\n",
              "\n",
              "scope.google = scope.google || {};\n",
              "scope.google.colab = scope.google.colab || {};\n",
              "scope.google.colab._files = {\n",
              "  _uploadFiles,\n",
              "  _uploadFilesContinue,\n",
              "};\n",
              "})(self);\n",
              "</script> "
            ]
          },
          "metadata": {}
        },
        {
          "output_type": "stream",
          "name": "stdout",
          "text": [
            "Saving Influenza H3N2.fasta to Influenza H3N2.fasta\n"
          ]
        }
      ]
    },
    {
      "cell_type": "code",
      "execution_count": null,
      "metadata": {
        "id": "UvU7nurJVYtW"
      },
      "outputs": [],
      "source": [
        "#Abre o arquivo\n",
        "fasta_sequencias = SeqIO.parse(open('Influenza H3N2.fasta'),'fasta')"
      ]
    },
    {
      "cell_type": "markdown",
      "source": [
        "**Número de sequências de DNA**\n",
        "\n",
        "**Número de diferentes  nucleotideos (A, T, C e G) em cada sequência e total**\n",
        "\n",
        "**Conteúdo GC de cada sequência**"
      ],
      "metadata": {
        "id": "S3OIhHsR2ZU3"
      }
    },
    {
      "cell_type": "code",
      "source": [
        "vet_gc = []\n",
        "vet_tamanho= []\n",
        "vet_id=[]\n",
        "qnt_sequencias = 0\n",
        "\n",
        "for seq_atual in fasta_sequencias:\n",
        "    # obtém a sequência de nucleotídeos\n",
        "    sequencia = seq_atual.seq\n",
        "    vet_id.append (seq_atual.id)\n",
        "   \n",
        "    # conta o número total de nucleotídeos na sequência\n",
        "    total_nucleotideos = len(sequencia)\n",
        "    vet_tamanho.append(total_nucleotideos)\n",
        "\n",
        "    # conta o número de cada nucleotídeo na sequência\n",
        "    a = sequencia.count('A')\n",
        "    t = sequencia.count('T')\n",
        "    c = sequencia.count('C')\n",
        "    g = sequencia.count('G')\n",
        "\n",
        "    # calcula o conteúdo de GC da sequência\n",
        "    gc = ((c + g) / (a + t + c + g)) * 100 \n",
        "\n",
        "    #add a lista gc\n",
        "    vet_gc.append(gc)\n",
        "\n",
        "\n",
        "    # imprime os resultados\n",
        "    print('Sequência:', seq_atual.id)\n",
        "    print('Número total de nucleotídeos:', total_nucleotideos)\n",
        "    print('Número de A:', a)\n",
        "    print('Número de T:', t)\n",
        "    print('Número de C:', c)\n",
        "    print('Número de G:', g)\n",
        "    print(\"Conteúdo de GC:\", gc,\"%\")\n",
        "    print('  ')\n",
        "\n",
        "    qnt_sequencias+=1\n",
        "\n",
        "print (\"Existem\", qnt_sequencias, \"sequências de DNA no arquivo\")"
      ],
      "metadata": {
        "id": "wJHUb-uEiM5o",
        "colab": {
          "base_uri": "https://localhost:8080/"
        },
        "outputId": "01d71f82-1f75-4464-817a-d0246ba78a59"
      },
      "execution_count": null,
      "outputs": [
        {
          "output_type": "stream",
          "name": "stdout",
          "text": [
            "Sequência: NC_007373.1\n",
            "Número total de nucleotídeos: 2341\n",
            "Número de A: 810\n",
            "Número de T: 536\n",
            "Número de C: 425\n",
            "Número de G: 570\n",
            "Conteúdo de GC: 42.503203759077316 %\n",
            "  \n",
            "Sequência: NC_007372.1\n",
            "Número total de nucleotídeos: 2341\n",
            "Número de A: 831\n",
            "Número de T: 521\n",
            "Número de C: 460\n",
            "Número de G: 529\n",
            "Conteúdo de GC: 42.24690303289192 %\n",
            "  \n",
            "Sequência: NC_007371.1\n",
            "Número total de nucleotídeos: 2233\n",
            "Número de A: 761\n",
            "Número de T: 541\n",
            "Número de C: 418\n",
            "Número de G: 513\n",
            "Conteúdo de GC: 41.692789968652036 %\n",
            "  \n",
            "Sequência: NC_007366.1\n",
            "Número total de nucleotídeos: 1762\n",
            "Número de A: 600\n",
            "Número de T: 422\n",
            "Número de C: 353\n",
            "Número de G: 387\n",
            "Conteúdo de GC: 41.99772985244041 %\n",
            "  \n",
            "Sequência: NC_007369.1\n",
            "Número total de nucleotídeos: 1566\n",
            "Número de A: 515\n",
            "Número de T: 334\n",
            "Número de C: 303\n",
            "Número de G: 414\n",
            "Conteúdo de GC: 45.785440613026815 %\n",
            "  \n",
            "Sequência: NC_007368.1\n",
            "Número total de nucleotídeos: 1467\n",
            "Número de A: 463\n",
            "Número de T: 377\n",
            "Número de C: 285\n",
            "Número de G: 342\n",
            "Conteúdo de GC: 42.740286298568506 %\n",
            "  \n",
            "Sequência: NC_007367.1\n",
            "Número total de nucleotídeos: 1027\n",
            "Número de A: 296\n",
            "Número de T: 251\n",
            "Número de C: 213\n",
            "Número de G: 267\n",
            "Conteúdo de GC: 46.73807205452775 %\n",
            "  \n",
            "Sequência: NC_007370.1\n",
            "Número total de nucleotídeos: 890\n",
            "Número de A: 305\n",
            "Número de T: 214\n",
            "Número de C: 170\n",
            "Número de G: 201\n",
            "Conteúdo de GC: 41.68539325842697 %\n",
            "  \n",
            "Existem 8 sequências de DNA no arquivo\n"
          ]
        }
      ]
    },
    {
      "cell_type": "markdown",
      "source": [
        "**Temperatura de Melting para cada sequência**"
      ],
      "metadata": {
        "id": "ZN2CjvLO24uN"
      }
    },
    {
      "cell_type": "code",
      "source": [
        "vet_tm=[]\n",
        "#Calcula o tm\n",
        "for i in range(len(vet_id)):\n",
        "  tm = 64.9 + (0.41 * (vet_gc[i])) - (500 / vet_tamanho[i])\n",
        "  vet_tm.append(tm)\n",
        "\n",
        "for i in range(len(vet_id)):\n",
        "  print(\"O DNA melting temperature da Sequência\", vet_id[i], \"é\" , vet_tm[i])\n"
      ],
      "metadata": {
        "id": "hnDhsBGamA7q",
        "colab": {
          "base_uri": "https://localhost:8080/"
        },
        "outputId": "25d3f43d-26c0-4be1-eae9-9ff085e5c0fa"
      },
      "execution_count": null,
      "outputs": [
        {
          "output_type": "stream",
          "name": "stdout",
          "text": [
            "O DNA melting temperature da Sequência NC_007373.1 é 82.11272960273388\n",
            "O DNA melting temperature da Sequência NC_007372.1 é 82.00764630499786\n",
            "O DNA melting temperature da Sequência NC_007371.1 é 81.77012987012988\n",
            "O DNA melting temperature da Sequência NC_007366.1 é 81.83530079455166\n",
            "O DNA melting temperature da Sequência NC_007369.1 é 83.35274584929758\n",
            "O DNA melting temperature da Sequência NC_007368.1 é 82.08268575323791\n",
            "O DNA melting temperature da Sequência NC_007367.1 é 83.57575462512172\n",
            "O DNA melting temperature da Sequência NC_007370.1 é 81.42921348314607\n"
          ]
        }
      ]
    },
    {
      "cell_type": "markdown",
      "source": [
        "**Tabela com Temperatura de Melting para cada sequência**"
      ],
      "metadata": {
        "id": "buBGvug32nj2"
      }
    },
    {
      "cell_type": "code",
      "source": [
        "# criando um dicionário com os dados da tabela\n",
        "dados = {'ID da sequência': [vet_id[0], vet_id[1], vet_id[2], vet_id[3], vet_id[4], vet_id[5],vet_id [6], vet_id[7]],\n",
        "         'GC': [vet_gc[0], vet_gc[1], vet_gc[2], vet_gc[3], vet_gc[4], vet_gc[5], vet_gc[6], vet_gc[7]],\n",
        "         'TM': [vet_tm[0], vet_tm[1], vet_tm[2], vet_tm[3], vet_tm[4], vet_tm[5], vet_tm[6], vet_tm[7]]}\n",
        "\n",
        "# criando um objeto DataFrame com os dados\n",
        "tabela = pd.DataFrame(dados)\n",
        "\n",
        "# exibindo a tabela\n",
        "print(tabela)"
      ],
      "metadata": {
        "id": "fBALXlQ5mCj0",
        "colab": {
          "base_uri": "https://localhost:8080/"
        },
        "outputId": "14b69809-270d-43a7-801b-576055640735"
      },
      "execution_count": null,
      "outputs": [
        {
          "output_type": "stream",
          "name": "stdout",
          "text": [
            "  ID da sequência         GC         TM\n",
            "0     NC_007373.1  42.503204  82.112730\n",
            "1     NC_007372.1  42.246903  82.007646\n",
            "2     NC_007371.1  41.692790  81.770130\n",
            "3     NC_007366.1  41.997730  81.835301\n",
            "4     NC_007369.1  45.785441  83.352746\n",
            "5     NC_007368.1  42.740286  82.082686\n",
            "6     NC_007367.1  46.738072  83.575755\n",
            "7     NC_007370.1  41.685393  81.429213\n"
          ]
        }
      ]
    },
    {
      "cell_type": "markdown",
      "source": [
        "***Gráfico Conteúdo GC x  Temperatura de Melting ***"
      ],
      "metadata": {
        "id": "NvFXAh-82x0d"
      }
    },
    {
      "cell_type": "code",
      "source": [
        "# Plotar gráfico de pontos\n",
        "plt.scatter(vet_gc, vet_tm)\n",
        "\n",
        "# Adicionar rótulos aos eixos x e y\n",
        "plt.xlabel('GC (em %)')\n",
        "plt.ylabel('Temperatura de anelamento (melting)')\n",
        "\n",
        "# Adicionar título\n",
        "plt.title('Conteúdo GC x  Temperatura de Melting')\n",
        "\n",
        "# Exibir o gráfico\n",
        "plt.show()\n",
        "\n"
      ],
      "metadata": {
        "colab": {
          "base_uri": "https://localhost:8080/",
          "height": 472
        },
        "id": "-ZJ0D67wFmn2",
        "outputId": "5f31f062-3b14-43dc-ea48-065a1420227f"
      },
      "execution_count": null,
      "outputs": [
        {
          "output_type": "display_data",
          "data": {
            "text/plain": [
              "<Figure size 640x480 with 1 Axes>"
            ],
            "image/png": "[encoded data removed]"
          },
          "metadata": {}
        }
      ]
    },
    {
      "cell_type": "code",
      "source": [],
      "metadata": {
        "id": "uIrL--_IyiZ7"
      },
      "execution_count": null,
      "outputs": []
    }
  ]
}